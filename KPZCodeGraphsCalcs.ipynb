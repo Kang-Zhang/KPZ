{
 "cells": [
  {
   "cell_type": "code",
   "execution_count": 10,
   "metadata": {
    "collapsed": false
   },
   "outputs": [],
   "source": [
    "import matplotlib.pyplot as plt\n",
    "from KPZfunctions import *\n",
    "import numpy as np"
   ]
  },
  {
   "cell_type": "markdown",
   "metadata": {},
   "source": [
    "## Calculating average energy and average number of vortices for different N, $\\lambda_x$,  $\\lambda_y$ combinations for a range of $c_L$ values"
   ]
  },
  {
   "cell_type": "code",
   "execution_count": 2,
   "metadata": {
    "collapsed": true
   },
   "outputs": [],
   "source": [
    "c_L = set(np.arange(0,7.5,0.5)) #so values near critical point at smaller cL increments are added\n",
    "#%timeit"
   ]
  },
  {
   "cell_type": "code",
   "execution_count": 9,
   "metadata": {
    "collapsed": false
   },
   "outputs": [
    {
     "ename": "IOError",
     "evalue": "[Errno 2] No such file or directory: 'KPZProjectGraphs/64-2.50-0.00-0.00E.txt'",
     "output_type": "error",
     "traceback": [
      "\u001b[0;31m---------------------------------------------------------------------------\u001b[0m",
      "\u001b[0;31mIOError\u001b[0m                                   Traceback (most recent call last)",
      "\u001b[0;32m<ipython-input-9-60de93a2f94e>\u001b[0m in \u001b[0;36m<module>\u001b[0;34m()\u001b[0m\n\u001b[1;32m      3\u001b[0m \u001b[0mc_L\u001b[0m\u001b[0;34m.\u001b[0m\u001b[0madd\u001b[0m\u001b[0;34m(\u001b[0m\u001b[0mcL\u001b[0m\u001b[0;34m)\u001b[0m\u001b[0;34m\u001b[0m\u001b[0m\n\u001b[1;32m      4\u001b[0m \u001b[0;31m#and check individual combinations of c_L, N, l_x and l_y\u001b[0m\u001b[0;34m\u001b[0m\u001b[0;34m\u001b[0m\u001b[0m\n\u001b[0;32m----> 5\u001b[0;31m \u001b[0mEV\u001b[0m\u001b[0;34m(\u001b[0m\u001b[0mcL\u001b[0m\u001b[0;34m,\u001b[0m \u001b[0mN\u001b[0m\u001b[0;34m=\u001b[0m\u001b[0;36m64\u001b[0m\u001b[0;34m,\u001b[0m \u001b[0ml_x\u001b[0m \u001b[0;34m=\u001b[0m \u001b[0;36m0\u001b[0m\u001b[0;34m,\u001b[0m \u001b[0ml_y\u001b[0m \u001b[0;34m=\u001b[0m \u001b[0;36m0\u001b[0m\u001b[0;34m,\u001b[0m \u001b[0mplot\u001b[0m \u001b[0;34m=\u001b[0m \u001b[0mTrue\u001b[0m\u001b[0;34m,\u001b[0m \u001b[0mdisplay\u001b[0m \u001b[0;34m=\u001b[0m \u001b[0mFalse\u001b[0m\u001b[0;34m,\u001b[0m \u001b[0msave\u001b[0m \u001b[0;34m=\u001b[0m \u001b[0mTrue\u001b[0m\u001b[0;34m)\u001b[0m\u001b[0;34m\u001b[0m\u001b[0m\n\u001b[0m\u001b[1;32m      6\u001b[0m \u001b[0;31m#sort in order and check all c_L values\u001b[0m\u001b[0;34m\u001b[0m\u001b[0;34m\u001b[0m\u001b[0m\n\u001b[1;32m      7\u001b[0m \u001b[0;32mprint\u001b[0m \u001b[0msorted\u001b[0m\u001b[0;34m(\u001b[0m\u001b[0mlist\u001b[0m\u001b[0;34m(\u001b[0m\u001b[0mc_L\u001b[0m\u001b[0;34m)\u001b[0m\u001b[0;34m)\u001b[0m\u001b[0;34m\u001b[0m\u001b[0m\n",
      "\u001b[0;32m/Users/avalee/KPZfunctions.py\u001b[0m in \u001b[0;36mEV\u001b[0;34m(c_L, N, l_x, l_y, plot, display, save)\u001b[0m\n\u001b[1;32m      9\u001b[0m     \u001b[0;31m#import energy data\u001b[0m\u001b[0;34m\u001b[0m\u001b[0;34m\u001b[0m\u001b[0m\n\u001b[1;32m     10\u001b[0m     yE = np.loadtxt('KPZProjectGraphs/'+ str(N) + \"-\" + str(format(c_L, '.2f')) + \"-\" + \n\u001b[0;32m---> 11\u001b[0;31m                     str(format(l_x, '.2f')) + \"-\" + str(format(l_y, '.2f')) + 'E.txt')\n\u001b[0m\u001b[1;32m     12\u001b[0m     \u001b[0mavgE\u001b[0m \u001b[0;34m=\u001b[0m \u001b[0mnp\u001b[0m\u001b[0;34m.\u001b[0m\u001b[0mmean\u001b[0m\u001b[0;34m(\u001b[0m\u001b[0myE\u001b[0m\u001b[0;34m,\u001b[0m \u001b[0maxis\u001b[0m\u001b[0;34m=\u001b[0m\u001b[0;36m0\u001b[0m\u001b[0;34m)\u001b[0m \u001b[0;31m#average energy data\u001b[0m\u001b[0;34m\u001b[0m\u001b[0m\n\u001b[1;32m     13\u001b[0m     \u001b[0mxE\u001b[0m \u001b[0;34m=\u001b[0m \u001b[0mnp\u001b[0m\u001b[0;34m.\u001b[0m\u001b[0marange\u001b[0m\u001b[0;34m(\u001b[0m\u001b[0;36m0\u001b[0m\u001b[0;34m,\u001b[0m\u001b[0mlen\u001b[0m\u001b[0;34m(\u001b[0m\u001b[0mavgE\u001b[0m\u001b[0;34m)\u001b[0m\u001b[0;34m)\u001b[0m\u001b[0;34m\u001b[0m\u001b[0m\n",
      "\u001b[0;32m/Users/avalee/anaconda/lib/python2.7/site-packages/numpy/lib/npyio.pyc\u001b[0m in \u001b[0;36mloadtxt\u001b[0;34m(fname, dtype, comments, delimiter, converters, skiprows, usecols, unpack, ndmin)\u001b[0m\n\u001b[1;32m    801\u001b[0m                 \u001b[0mfh\u001b[0m \u001b[0;34m=\u001b[0m \u001b[0miter\u001b[0m\u001b[0;34m(\u001b[0m\u001b[0mbz2\u001b[0m\u001b[0;34m.\u001b[0m\u001b[0mBZ2File\u001b[0m\u001b[0;34m(\u001b[0m\u001b[0mfname\u001b[0m\u001b[0;34m)\u001b[0m\u001b[0;34m)\u001b[0m\u001b[0;34m\u001b[0m\u001b[0m\n\u001b[1;32m    802\u001b[0m             \u001b[0;32melif\u001b[0m \u001b[0msys\u001b[0m\u001b[0;34m.\u001b[0m\u001b[0mversion_info\u001b[0m\u001b[0;34m[\u001b[0m\u001b[0;36m0\u001b[0m\u001b[0;34m]\u001b[0m \u001b[0;34m==\u001b[0m \u001b[0;36m2\u001b[0m\u001b[0;34m:\u001b[0m\u001b[0;34m\u001b[0m\u001b[0m\n\u001b[0;32m--> 803\u001b[0;31m                 \u001b[0mfh\u001b[0m \u001b[0;34m=\u001b[0m \u001b[0miter\u001b[0m\u001b[0;34m(\u001b[0m\u001b[0mopen\u001b[0m\u001b[0;34m(\u001b[0m\u001b[0mfname\u001b[0m\u001b[0;34m,\u001b[0m \u001b[0;34m'U'\u001b[0m\u001b[0;34m)\u001b[0m\u001b[0;34m)\u001b[0m\u001b[0;34m\u001b[0m\u001b[0m\n\u001b[0m\u001b[1;32m    804\u001b[0m             \u001b[0;32melse\u001b[0m\u001b[0;34m:\u001b[0m\u001b[0;34m\u001b[0m\u001b[0m\n\u001b[1;32m    805\u001b[0m                 \u001b[0mfh\u001b[0m \u001b[0;34m=\u001b[0m \u001b[0miter\u001b[0m\u001b[0;34m(\u001b[0m\u001b[0mopen\u001b[0m\u001b[0;34m(\u001b[0m\u001b[0mfname\u001b[0m\u001b[0;34m)\u001b[0m\u001b[0;34m)\u001b[0m\u001b[0;34m\u001b[0m\u001b[0m\n",
      "\u001b[0;31mIOError\u001b[0m: [Errno 2] No such file or directory: 'KPZProjectGraphs/64-2.50-0.00-0.00E.txt'"
     ]
    }
   ],
   "source": [
    "#add values not in c_L here\n",
    "cL = 2.5\n",
    "c_L.add(cL)\n",
    "#and check individual combinations of c_L, N, l_x and l_y\n",
    "EV(cL, N=64, l_x = 0, l_y = 0, plot = True, display = False, save = True)\n",
    "#sort in order and check all c_L values\n",
    "print sorted(list(c_L)) "
   ]
  },
  {
   "cell_type": "code",
   "execution_count": 7,
   "metadata": {
    "collapsed": true
   },
   "outputs": [],
   "source": [
    "#all combinations of N, l_x and l_y are expected to have same c_L values\n",
    "c_Lplot = np.array(sorted(list(c_L)))"
   ]
  },
  {
   "cell_type": "markdown",
   "metadata": {},
   "source": [
    "### N = 64, $\\lambda_x$ = 0, $\\lambda_y$ = 0"
   ]
  },
  {
   "cell_type": "code",
   "execution_count": null,
   "metadata": {
    "collapsed": true
   },
   "outputs": [],
   "source": [
    "N = 64\n",
    "l_x = 0\n",
    "l_y = 0\n",
    "\n",
    "#make sure size of avgssE and avgssV are the same length as c_L\n",
    "avgssE64_0_0 = np.zeros(len(c_Lplot))\n",
    "avgssV64_0_0 = np.zeros(len(c_Lplot))"
   ]
  },
  {
   "cell_type": "code",
   "execution_count": null,
   "metadata": {
    "collapsed": false
   },
   "outputs": [],
   "source": [
    "for i in range(0,len(c_Lplot)): \n",
    "    avgssE64_0_0[np.where(c_Lplot ==c_Lplot[i])], avgssV64_0_0[np.where(c_Lplot ==c_Lplot[i])] = EV(c_Lplot[i],N,\n",
    "                                                                l_x,l_y, plot = False, display = False, save = False)"
   ]
  },
  {
   "cell_type": "markdown",
   "metadata": {},
   "source": [
    "### N = 128, $\\lambda_x$ = 0, $\\lambda_y$ = 0"
   ]
  },
  {
   "cell_type": "code",
   "execution_count": null,
   "metadata": {
    "collapsed": true
   },
   "outputs": [],
   "source": [
    "N = 128\n",
    "l_x = 0\n",
    "l_y = 0\n",
    "\n",
    "#make sure size of avgssE and avgssV are the same length as c_L\n",
    "avgssE128_0_0 = np.zeros(len(c_Lplot))\n",
    "avgssV128_0_0 = np.zeros(len(c_Lplot))"
   ]
  },
  {
   "cell_type": "code",
   "execution_count": null,
   "metadata": {
    "collapsed": true
   },
   "outputs": [],
   "source": [
    "for i in range(0,len(c_Lplot)): \n",
    "    avgssE128_0_0[np.where(c_Lplot ==c_Lplot[i])], avgssV128_0_0[np.where(c_Lplot ==c_Lplot[i])] = EV(c_Lplot[i],N,\n",
    "                                                                l_x,l_y, plot = False, display = False, save = False)"
   ]
  },
  {
   "cell_type": "markdown",
   "metadata": {},
   "source": [
    "### N = 64, $\\lambda_x$ = 0.25, $\\lambda_y$ = 0.25"
   ]
  },
  {
   "cell_type": "code",
   "execution_count": null,
   "metadata": {
    "collapsed": true
   },
   "outputs": [],
   "source": [
    "N = 64\n",
    "l_x = 0.25\n",
    "l_y = 0.25\n",
    "\n",
    "#make sure size of avgssE and avgssV are the same length as c_L\n",
    "avgssE64_0.25_0.25 = np.zeros(len(c_Lplot))\n",
    "avgssV64_0.25_0.25 = np.zeros(len(c_Lplot))"
   ]
  },
  {
   "cell_type": "code",
   "execution_count": null,
   "metadata": {
    "collapsed": true
   },
   "outputs": [],
   "source": [
    "for i in range(0,len(c_Lplot)): \n",
    "    avgssE64_0.25_0.25[np.where(c_Lplot ==c_Lplot[i])], avgssV64_0.25_0.25[np.where(c_Lplot ==c_Lplot[i])] = EV(c_Lplot[i],N,\n",
    "                                                                l_x,l_y, plot = False, display = False, save = False)"
   ]
  },
  {
   "cell_type": "markdown",
   "metadata": {},
   "source": [
    "### N = 64, $\\lambda_x$ = 0.25, $\\lambda_y$ = -0.25"
   ]
  },
  {
   "cell_type": "code",
   "execution_count": null,
   "metadata": {
    "collapsed": true
   },
   "outputs": [],
   "source": [
    "N = 64\n",
    "l_x = 0.25\n",
    "l_y = -0.25\n",
    "\n",
    "#make sure size of avgssE and avgssV are the same length as c_L\n",
    "avgssE64_0.25_-0.25 = np.zeros(len(c_Lplot))\n",
    "avgssV64_0.25_-0.25 = np.zeros(len(c_Lplot))"
   ]
  },
  {
   "cell_type": "code",
   "execution_count": null,
   "metadata": {
    "collapsed": true
   },
   "outputs": [],
   "source": [
    "for i in range(0,len(c_Lplot)): \n",
    "    avgssE64_0.25_-0.25[np.where(c_Lplot ==c_Lplot[i])], avgssV64_0.25_-0.25[np.where(c_Lplot ==c_Lplot[i])] = EV(c_Lplot[i],N,\n",
    "                                                                l_x,l_y, plot = False, display = False, save = False)"
   ]
  },
  {
   "cell_type": "markdown",
   "metadata": {},
   "source": [
    "### N = 64, $\\lambda_x$ = 0.25, $\\lambda_y$ = 0.5"
   ]
  },
  {
   "cell_type": "code",
   "execution_count": null,
   "metadata": {
    "collapsed": true
   },
   "outputs": [],
   "source": [
    "N = 64\n",
    "l_x = 0.25\n",
    "l_y = 0.5\n",
    "\n",
    "#make sure size of avgssE and avgssV are the same length as c_L\n",
    "avgssE64_0.25_0.5 = np.zeros(len(c_Lplot))\n",
    "avgssV64_0.25_0.5 = np.zeros(len(c_Lplot))"
   ]
  },
  {
   "cell_type": "code",
   "execution_count": null,
   "metadata": {
    "collapsed": true
   },
   "outputs": [],
   "source": [
    "for i in range(0,len(c_Lplot)): \n",
    "    avgssE64_0.25_0.5[np.where(c_Lplot ==c_Lplot[i])], avgssV64_0.25_0.5[np.where(c_Lplot ==c_Lplot[i])] = EV(c_Lplot[i],N,\n",
    "                                                                l_x,l_y, plot = False, display = False, save = False)"
   ]
  },
  {
   "cell_type": "markdown",
   "metadata": {},
   "source": [
    "### N = 64, $\\lambda_x$ = 0.25, $\\lambda_y$ = -0.5"
   ]
  },
  {
   "cell_type": "code",
   "execution_count": null,
   "metadata": {
    "collapsed": true
   },
   "outputs": [],
   "source": [
    "N = 64\n",
    "l_x = 0.25\n",
    "l_y = -0.5\n",
    "\n",
    "#make sure size of avgssE and avgssV are the same length as c_L\n",
    "avgssE64_0.25_-0.5 = np.zeros(len(c_Lplot))\n",
    "avgssV64_0.25_-0.5 = np.zeros(len(c_Lplot))"
   ]
  },
  {
   "cell_type": "code",
   "execution_count": null,
   "metadata": {
    "collapsed": true
   },
   "outputs": [],
   "source": [
    "for i in range(0,len(c_Lplot)): \n",
    "    avgssE64_0.25_-0.5[np.where(c_Lplot ==c_Lplot[i])], avgssV64_0.25_-0.5[np.where(c_Lplot ==c_Lplot[i])] = EV(c_Lplot[i],N,\n",
    "                                                                l_x,l_y, plot = False, display = False, save = False)"
   ]
  },
  {
   "cell_type": "markdown",
   "metadata": {},
   "source": [
    "### N = 64, $\\lambda_x$ = 0.5, $\\lambda_y$ = 0.5"
   ]
  },
  {
   "cell_type": "code",
   "execution_count": null,
   "metadata": {
    "collapsed": true
   },
   "outputs": [],
   "source": [
    "N = 64\n",
    "l_x = 0.5\n",
    "l_y = 0.5\n",
    "\n",
    "#make sure size of avgssE and avgssV are the same length as c_L\n",
    "avgssE64_0.5_0.5 = np.zeros(len(c_Lplot))\n",
    "avgssV64_0.5_0.5 = np.zeros(len(c_Lplot))"
   ]
  },
  {
   "cell_type": "code",
   "execution_count": null,
   "metadata": {
    "collapsed": true
   },
   "outputs": [],
   "source": [
    "for i in range(0,len(c_Lplot)): \n",
    "    avgssE64_0.5_0.5[np.where(c_Lplot ==c_Lplot[i])], avgssV64_0.5_0.5[np.where(c_Lplot ==c_Lplot[i])] = EV(c_Lplot[i],N,\n",
    "                                                                l_x,l_y, plot = False, display = False, save = False)"
   ]
  },
  {
   "cell_type": "markdown",
   "metadata": {},
   "source": [
    "### N = 64, $\\lambda_x$ = 0.5, $\\lambda_y$ = -0.5"
   ]
  },
  {
   "cell_type": "code",
   "execution_count": null,
   "metadata": {
    "collapsed": true
   },
   "outputs": [],
   "source": [
    "N = 64\n",
    "l_x = 0.5\n",
    "l_y = -0.5\n",
    "\n",
    "#make sure size of avgssE and avgssV are the same length as c_L\n",
    "avgssE64_0.5_-0.5 = np.zeros(len(c_Lplot))\n",
    "avgssV64_0.5_-0.5 = np.zeros(len(c_Lplot))"
   ]
  },
  {
   "cell_type": "code",
   "execution_count": null,
   "metadata": {
    "collapsed": true
   },
   "outputs": [],
   "source": [
    "for i in range(0,len(c_Lplot)): \n",
    "    avgssE64_0.5_-0.5[np.where(c_Lplot ==c_Lplot[i])], avgssV64_0.5_-0.5[np.where(c_Lplot ==c_Lplot[i])] = EV(c_Lplot[i],N,\n",
    "                                                                l_x,l_y, plot = False, display = False, save = False)"
   ]
  },
  {
   "cell_type": "markdown",
   "metadata": {},
   "source": [
    "### Average energy density and average number of vortices against noise"
   ]
  },
  {
   "cell_type": "code",
   "execution_count": 6,
   "metadata": {
    "collapsed": false
   },
   "outputs": [
    {
     "ename": "NameError",
     "evalue": "name 'c_Lplot' is not defined",
     "output_type": "error",
     "traceback": [
      "\u001b[0;31m---------------------------------------------------------------------------\u001b[0m",
      "\u001b[0;31mNameError\u001b[0m                                 Traceback (most recent call last)",
      "\u001b[0;32m<ipython-input-6-c3b165071e4c>\u001b[0m in \u001b[0;36m<module>\u001b[0;34m()\u001b[0m\n\u001b[1;32m      1\u001b[0m \u001b[0mplt\u001b[0m\u001b[0;34m.\u001b[0m\u001b[0mfigure\u001b[0m\u001b[0;34m(\u001b[0m\u001b[0;34m)\u001b[0m\u001b[0;34m\u001b[0m\u001b[0m\n\u001b[0;32m----> 2\u001b[0;31m \u001b[0mplt\u001b[0m\u001b[0;34m.\u001b[0m\u001b[0mplot\u001b[0m\u001b[0;34m(\u001b[0m\u001b[0mc_Lplot\u001b[0m\u001b[0;34m,\u001b[0m\u001b[0mavgssE\u001b[0m\u001b[0;34m)\u001b[0m \u001b[0;31m#\"o\" for scatter\u001b[0m\u001b[0;34m\u001b[0m\u001b[0m\n\u001b[0m\u001b[1;32m      3\u001b[0m plt.title(r'Average energy density against noise parameter for lattice size $%s^2$' %(N) + '\\n' +\n\u001b[1;32m      4\u001b[0m          r' with $\\lambda_x = %s$ '%(l_x) + r'and $\\lambda_y = %s$'%(l_y))\n\u001b[1;32m      5\u001b[0m \u001b[0mplt\u001b[0m\u001b[0;34m.\u001b[0m\u001b[0mxlabel\u001b[0m\u001b[0;34m(\u001b[0m\u001b[0;34mr'$c_L$'\u001b[0m\u001b[0;34m)\u001b[0m\u001b[0;34m\u001b[0m\u001b[0m\n",
      "\u001b[0;31mNameError\u001b[0m: name 'c_Lplot' is not defined"
     ]
    }
   ],
   "source": [
    "plt.figure()\n",
    "plt.plot(c_Lplot,avgssE) #\"o\" for scatter\n",
    "plt.title(r'Average energy density against noise parameter for lattice size $%s^2$' %(N) + '\\n' +\n",
    "         r' with $\\lambda_x = %s$ '%(l_x) + r'and $\\lambda_y = %s$'%(l_y))\n",
    "plt.xlabel(r'$c_L$')\n",
    "plt.ylabel(r'$<E>/N^2$')"
   ]
  },
  {
   "cell_type": "code",
   "execution_count": null,
   "metadata": {
    "collapsed": true
   },
   "outputs": [],
   "source": [
    "plt.figure()\n",
    "plt.plot(c_Lplot,avgssV)\n",
    "plt.title(r'Average number of vortices against noise parameter for lattice size $%s^2$' %(N)+ '\\n' +\n",
    "         r' with $\\lambda_x = %s$ '%(l_x) + r'and $\\lambda_y = %s$'%(l_y))\n",
    "plt.xlabel(r'$c_L$')\n",
    "plt.ylabel(r'$number of vortices$')"
   ]
  },
  {
   "cell_type": "markdown",
   "metadata": {},
   "source": [
    "### Specific heat from differentiating average energy wrt noise or using equation"
   ]
  },
  {
   "cell_type": "code",
   "execution_count": 11,
   "metadata": {
    "collapsed": false
   },
   "outputs": [
    {
     "name": "stdout",
     "output_type": "stream",
     "text": [
      "[ 0.25   0.75   1.25   1.75   2.25   2.75   3.175  3.425  3.75   4.25   4.75\n",
      "  5.25   5.75   6.25   6.75 ]\n"
     ]
    },
    {
     "ename": "NameError",
     "evalue": "name 'N' is not defined",
     "output_type": "error",
     "traceback": [
      "\u001b[0;31m---------------------------------------------------------------------------\u001b[0m",
      "\u001b[0;31mNameError\u001b[0m                                 Traceback (most recent call last)",
      "\u001b[0;32m<ipython-input-11-bbf66366d82f>\u001b[0m in \u001b[0;36m<module>\u001b[0;34m()\u001b[0m\n\u001b[1;32m      8\u001b[0m \u001b[0mplt\u001b[0m\u001b[0;34m.\u001b[0m\u001b[0mplot\u001b[0m \u001b[0;34m(\u001b[0m\u001b[0mc_Lnew\u001b[0m\u001b[0;34m,\u001b[0m\u001b[0mdEdcL\u001b[0m\u001b[0;34m)\u001b[0m \u001b[0;31m#\"o\" for scatter\u001b[0m\u001b[0;34m\u001b[0m\u001b[0m\n\u001b[1;32m      9\u001b[0m plt.title('Change in average energy density over change in noise \\n' + r'against noise for lattice size $%s^2$' %(N)+\n\u001b[0;32m---> 10\u001b[0;31m          r' with $\\lambda_x = %s$ '%(l_x) + r'and $\\lambda_y = %s$'%(l_y))\n\u001b[0m\u001b[1;32m     11\u001b[0m \u001b[0mplt\u001b[0m\u001b[0;34m.\u001b[0m\u001b[0mxlabel\u001b[0m\u001b[0;34m(\u001b[0m\u001b[0;34mr'$c_L$'\u001b[0m\u001b[0;34m)\u001b[0m\u001b[0;34m\u001b[0m\u001b[0m\n\u001b[1;32m     12\u001b[0m \u001b[0mplt\u001b[0m\u001b[0;34m.\u001b[0m\u001b[0mylabel\u001b[0m\u001b[0;34m(\u001b[0m\u001b[0;34mr'$d<E>/dc_L$'\u001b[0m\u001b[0;34m)\u001b[0m\u001b[0;34m\u001b[0m\u001b[0m\n",
      "\u001b[0;31mNameError\u001b[0m: name 'N' is not defined"
     ]
    }
   ],
   "source": [
    "#differentiation\n",
    "dcL = np.diff(c_Lplot)\n",
    "c_Lnew = c_Lplot[:len(dcL)] + dcL/2\n",
    "print c_Lnew\n",
    "\n",
    "dEdcL = np.diff(avgssE)/dcL\n",
    "plt.figure()\n",
    "plt.plot (c_Lnew,dEdcL) #\"o\" for scatter\n",
    "plt.title('Change in average energy density over change in noise \\n' + r'against noise for lattice size $%s^2$' %(N)+\n",
    "         r' with $\\lambda_x = %s$ '%(l_x) + r'and $\\lambda_y = %s$'%(l_y))\n",
    "plt.xlabel(r'$c_L$')\n",
    "plt.ylabel(r'$d<E>/dc_L$')"
   ]
  }
 ],
 "metadata": {
  "anaconda-cloud": {},
  "kernelspec": {
   "display_name": "Python [default]",
   "language": "python",
   "name": "python2"
  },
  "language_info": {
   "codemirror_mode": {
    "name": "ipython",
    "version": 2
   },
   "file_extension": ".py",
   "mimetype": "text/x-python",
   "name": "python",
   "nbconvert_exporter": "python",
   "pygments_lexer": "ipython2",
   "version": "2.7.12"
  }
 },
 "nbformat": 4,
 "nbformat_minor": 1
}
